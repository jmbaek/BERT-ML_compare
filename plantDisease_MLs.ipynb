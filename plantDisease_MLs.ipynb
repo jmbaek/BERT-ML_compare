{
  "nbformat": 4,
  "nbformat_minor": 0,
  "metadata": {
    "colab": {
      "name": "Untitled0.ipynb",
      "provenance": [],
      "authorship_tag": "ABX9TyNvhBk8tLKyT9664Uma2ZBi",
      "include_colab_link": true
    },
    "kernelspec": {
      "name": "python3",
      "display_name": "Python 3"
    },
    "language_info": {
      "name": "python"
    }
  },
  "cells": [
    {
      "cell_type": "markdown",
      "metadata": {
        "id": "view-in-github",
        "colab_type": "text"
      },
      "source": [
        "<a href=\"https://colab.research.google.com/github/jmbaek/BERT-ML_compare/blob/master/plantDisease_MLs.ipynb\" target=\"_parent\"><img src=\"https://colab.research.google.com/assets/colab-badge.svg\" alt=\"Open In Colab\"/></a>"
      ]
    },
    {
      "cell_type": "code",
      "execution_count": null,
      "metadata": {
        "id": "5vLiSSKVHLWm"
      },
      "outputs": [],
      "source": [
        ""
      ]
    },
    {
      "cell_type": "code",
      "source": [
        "!git clone https://github.com/mehra-deepak/Plant-Disease-Detection.git"
      ],
      "metadata": {
        "colab": {
          "base_uri": "https://localhost:8080/"
        },
        "id": "ljpKwYgZJpKe",
        "outputId": "00788205-98cb-4dd2-ecaa-725278aab983"
      },
      "execution_count": 13,
      "outputs": [
        {
          "output_type": "stream",
          "name": "stdout",
          "text": [
            "Cloning into 'Plant-Disease-Detection'...\n",
            "remote: Enumerating objects: 20439, done.\u001b[K\n",
            "remote: Counting objects: 100% (84/84), done.\u001b[K\n",
            "remote: Compressing objects: 100% (48/48), done.\u001b[K\n",
            "remote: Total 20439 (delta 34), reused 76 (delta 30), pack-reused 20355\u001b[K\n",
            "Receiving objects: 100% (20439/20439), 181.04 MiB | 20.61 MiB/s, done.\n",
            "Resolving deltas: 100% (40/40), done.\n"
          ]
        }
      ]
    },
    {
      "cell_type": "code",
      "source": [
        "!mv Plant-Disease-Detection/image_classification/dataset/ dataset/\n",
        "!mv Plant-Disease-Detection/image_classification/output/ output/"
      ],
      "metadata": {
        "id": "Ti_YP35fLc0M"
      },
      "execution_count": 18,
      "outputs": []
    },
    {
      "cell_type": "code",
      "source": [
        "!pip install mahotas\n",
        "!pip install joblib"
      ],
      "metadata": {
        "colab": {
          "base_uri": "https://localhost:8080/"
        },
        "id": "OLtFv4DARJBD",
        "outputId": "e075f8f6-21c0-4398-ccc6-5796f2437193"
      },
      "execution_count": 31,
      "outputs": [
        {
          "output_type": "stream",
          "name": "stdout",
          "text": [
            "Requirement already satisfied: mahotas in /usr/local/lib/python3.7/dist-packages (1.4.12)\n",
            "Requirement already satisfied: numpy in /usr/local/lib/python3.7/dist-packages (from mahotas) (1.21.5)\n",
            "Requirement already satisfied: joblib in /usr/local/lib/python3.7/dist-packages (1.1.0)\n"
          ]
        }
      ]
    },
    {
      "cell_type": "code",
      "source": [
        "#-----------------------------------\n",
        "# GLOBAL FEATURE EXTRACTION\n",
        "#-----------------------------------\n",
        "from sklearn.preprocessing import LabelEncoder\n",
        "from sklearn.preprocessing import MinMaxScaler\n",
        "import numpy as np\n",
        "import mahotas\n",
        "import cv2\n",
        "import os\n",
        "import h5py\n",
        "\n",
        "#--------------------\n",
        "# tunable-parameters\n",
        "#--------------------\n",
        "images_per_class       = 800\n",
        "fixed_size             = tuple((500, 500))\n",
        "train_path             = \"dataset/train\"\n",
        "h5_train_data          = 'output/train_data.h5'\n",
        "h5_train_labels        = 'output/train_labels.h5'\n",
        "bins                   = 8"
      ],
      "metadata": {
        "id": "rYhI1VDVH3Kl"
      },
      "execution_count": 21,
      "outputs": []
    },
    {
      "cell_type": "code",
      "source": [
        "# Converting each image to RGB from BGR format\n",
        "\n",
        "def rgb_bgr(image):\n",
        "    rgb_img = cv2.cvtColor(image, cv2.COLOR_BGR2RGB)\n",
        "    return rgb_img\n",
        "# Conversion to HSV image format from RGB\n",
        "\n",
        "def bgr_hsv(rgb_img):\n",
        "    hsv_img = cv2.cvtColor(rgb_img, cv2.COLOR_RGB2HSV)\n",
        "    return hsv_img\n",
        "# for extraction of green and brown color\n",
        "\n",
        "\n",
        "def img_segmentation(rgb_img,hsv_img):\n",
        "    lower_green = np.array([25,0,20])\n",
        "    upper_green = np.array([100,255,255])\n",
        "    healthy_mask = cv2.inRange(hsv_img, lower_green, upper_green)\n",
        "    result = cv2.bitwise_and(rgb_img,rgb_img, mask=healthy_mask)\n",
        "    lower_brown = np.array([10,0,10])\n",
        "    upper_brown = np.array([30,255,255])\n",
        "    disease_mask = cv2.inRange(hsv_img, lower_brown, upper_brown)\n",
        "    disease_result = cv2.bitwise_and(rgb_img, rgb_img, mask=disease_mask)\n",
        "    final_mask = healthy_mask + disease_mask\n",
        "    final_result = cv2.bitwise_and(rgb_img, rgb_img, mask=final_mask)\n",
        "    return final_result\n",
        "\n",
        "# feature-descriptor-1: Hu Moments\n",
        "def fd_hu_moments(image):\n",
        "    image = cv2.cvtColor(image, cv2.COLOR_BGR2GRAY)\n",
        "    feature = cv2.HuMoments(cv2.moments(image)).flatten()\n",
        "    return feature\n",
        "\n",
        "# feature-descriptor-2: Haralick Texture\n",
        "def fd_haralick(image):\n",
        "    gray = cv2.cvtColor(image, cv2.COLOR_BGR2GRAY)\n",
        "    haralick = mahotas.features.haralick(gray).mean(axis=0)\n",
        "    return haralick\n",
        "\n",
        "# feature-descriptor-3: Color Histogram\n",
        "def fd_histogram(image, mask=None):\n",
        "    image = cv2.cvtColor(image, cv2.COLOR_BGR2HSV)\n",
        "    hist  = cv2.calcHist([image], [0, 1, 2], None, [bins, bins, bins], [0, 256, 0, 256, 0, 256])\n",
        "    cv2.normalize(hist, hist)\n",
        "    return hist.flatten()\n",
        "\n"
      ],
      "metadata": {
        "id": "dpfzRLpXIClX"
      },
      "execution_count": 25,
      "outputs": []
    },
    {
      "cell_type": "code",
      "source": [
        "\n",
        "\n",
        "# get the training labels\n",
        "train_labels = os.listdir(train_path)\n",
        "\n",
        "# sort the training labels\n",
        "train_labels.sort()\n",
        "print(train_labels)\n",
        "\n",
        "# empty lists to hold feature vectors and labels\n",
        "global_features = []\n",
        "labels          = []\n",
        "\n"
      ],
      "metadata": {
        "colab": {
          "base_uri": "https://localhost:8080/"
        },
        "id": "utBUwnveIg5I",
        "outputId": "0517ed0f-230f-4211-e314-aa3921c51b19"
      },
      "execution_count": 26,
      "outputs": [
        {
          "output_type": "stream",
          "name": "stdout",
          "text": [
            "['diseased', 'healthy']\n"
          ]
        }
      ]
    },
    {
      "cell_type": "code",
      "source": [
        "# loop over the training data sub-folders\n",
        "for training_name in train_labels:\n",
        "    # join the training data path and each species training folder\n",
        "    dir = os.path.join(train_path, training_name)\n",
        "\n",
        "    # get the current training label\n",
        "    current_label = training_name\n",
        "\n",
        "    # loop over the images in each sub-folder\n",
        "    for x in range(1,images_per_class+1):\n",
        "        # get the image file name\n",
        "        file = dir + \"/\" + str(x) + \".jpg\"\n",
        "\n",
        "        # read the image and resize it to a fixed-size\n",
        "        image = cv2.imread(file)\n",
        "        image = cv2.resize(image, fixed_size)\n",
        "\n",
        "        \n",
        "        # Running Function Bit By Bit\n",
        "        \n",
        "        RGB_BGR       = rgb_bgr(image)\n",
        "        BGR_HSV       = bgr_hsv(RGB_BGR)\n",
        "        IMG_SEGMENT   = img_segmentation(RGB_BGR,BGR_HSV)\n",
        "\n",
        "        # Call for Global Fetaure Descriptors\n",
        "        \n",
        "        fv_hu_moments = fd_hu_moments(IMG_SEGMENT)\n",
        "        fv_haralick   = fd_haralick(IMG_SEGMENT)\n",
        "        fv_histogram  = fd_histogram(IMG_SEGMENT)\n",
        "        \n",
        "        # Concatenate \n",
        "        \n",
        "        global_feature = np.hstack([fv_histogram, fv_haralick, fv_hu_moments])\n",
        "        \n",
        "        \n",
        "\n",
        "        # update the list of labels and feature vectors\n",
        "        labels.append(current_label)\n",
        "        global_features.append(global_feature)\n",
        "\n",
        "    print(\"[STATUS] processed folder: {}\".format(current_label))\n",
        "\n",
        "print(\"[STATUS] completed Global Feature Extraction...\")"
      ],
      "metadata": {
        "colab": {
          "base_uri": "https://localhost:8080/"
        },
        "id": "FJQwajOOInwT",
        "outputId": "be6f8803-5df2-4042-a18a-868a19c429a8"
      },
      "execution_count": 27,
      "outputs": [
        {
          "output_type": "stream",
          "name": "stdout",
          "text": [
            "[STATUS] processed folder: diseased\n",
            "[STATUS] processed folder: healthy\n",
            "[STATUS] completed Global Feature Extraction...\n"
          ]
        }
      ]
    },
    {
      "cell_type": "code",
      "source": [
        "# print(global_features)\n",
        "\n",
        "# get the overall feature vector size\n",
        "print(\"[STATUS] feature vector size {}\".format(np.array(global_features).shape))\n",
        "\n",
        "# get the overall training label size\n",
        "print(\"[STATUS] training Labels {}\".format(np.array(labels).shape))\n",
        "\n",
        "# encode the target labels\n",
        "targetNames = np.unique(labels)\n",
        "le          = LabelEncoder()\n",
        "target      = le.fit_transform(labels)\n",
        "print(\"[STATUS] training labels encoded...\")\n",
        "\n",
        "# scale features in the range (0-1)\n",
        "from sklearn.preprocessing import MinMaxScaler\n",
        "scaler            = MinMaxScaler(feature_range=(0, 1))\n",
        "rescaled_features = scaler.fit_transform(global_features)\n",
        "print(\"[STATUS] feature vector normalized...\")\n",
        "\n",
        "print(\"[STATUS] target labels: {}\".format(target))\n",
        "print(\"[STATUS] target labels shape: {}\".format(target.shape))\n",
        "\n"
      ],
      "metadata": {
        "colab": {
          "base_uri": "https://localhost:8080/"
        },
        "id": "mAx-DQVXIulh",
        "outputId": "ba386145-a679-4437-99ea-6e89152673fe"
      },
      "execution_count": 28,
      "outputs": [
        {
          "output_type": "stream",
          "name": "stdout",
          "text": [
            "[STATUS] feature vector size (1600, 532)\n",
            "[STATUS] training Labels (1600,)\n",
            "[STATUS] training labels encoded...\n",
            "[STATUS] feature vector normalized...\n",
            "[STATUS] target labels: [0 0 0 ... 1 1 1]\n",
            "[STATUS] target labels shape: (1600,)\n"
          ]
        }
      ]
    },
    {
      "cell_type": "code",
      "source": [
        "# save the feature vector using HDF5\n",
        "h5f_data = h5py.File(h5_train_data, 'w')\n",
        "h5f_data.create_dataset('dataset_1', data=np.array(rescaled_features))\n",
        "\n",
        "h5f_label = h5py.File(h5_train_labels, 'w')\n",
        "h5f_label.create_dataset('dataset_1', data=np.array(target))\n",
        "\n",
        "h5f_data.close()\n",
        "h5f_label.close()\n",
        "\n"
      ],
      "metadata": {
        "id": "eshi0ijjI1Z0"
      },
      "execution_count": 29,
      "outputs": []
    },
    {
      "cell_type": "code",
      "source": [
        "# training\n",
        "#-----------------------------------\n",
        "# TRAINING OUR MODEL\n",
        "#-----------------------------------\n",
        "import h5py\n",
        "import numpy as np\n",
        "import os\n",
        "import glob\n",
        "import cv2\n",
        "import warnings\n",
        "from matplotlib import pyplot\n",
        "from sklearn.model_selection import train_test_split, cross_val_score\n",
        "from sklearn.model_selection import KFold, StratifiedKFold\n",
        "from sklearn.metrics import confusion_matrix, accuracy_score, classification_report\n",
        "from sklearn.linear_model import LogisticRegression\n",
        "from sklearn.tree import DecisionTreeClassifier\n",
        "from sklearn.ensemble import RandomForestClassifier\n",
        "from sklearn.neighbors import KNeighborsClassifier\n",
        "from sklearn.discriminant_analysis import LinearDiscriminantAnalysis\n",
        "from sklearn.naive_bayes import GaussianNB\n",
        "from sklearn.svm import SVC\n",
        "#from sklearn.externals import joblib\n",
        "import joblib\n",
        "\n",
        "warnings.filterwarnings('ignore')\n",
        "\n",
        "#--------------------\n",
        "# tunable-parameters\n",
        "#--------------------\n",
        "num_trees = 100\n",
        "test_size = 0.20\n",
        "seed      = 9\n",
        "train_path = \"dataset/train\"\n",
        "test_path  = \"dataset/test\"\n",
        "h5_train_data    = 'output/train_data.h5'\n",
        "h5_train_labels  = 'output/train_labels.h5'\n",
        "scoring    = \"accuracy\"\n",
        "\n",
        "# get the training labels\n",
        "train_labels = os.listdir(train_path)\n",
        "\n",
        "# sort the training labels\n",
        "train_labels.sort()\n",
        "\n",
        "if not os.path.exists(test_path):\n",
        "    os.makedirs(test_path)\n",
        "\n",
        "# create all the machine learning models\n",
        "models = []\n",
        "models.append(('LR', LogisticRegression(random_state=seed)))\n",
        "models.append(('LDA', LinearDiscriminantAnalysis()))\n",
        "models.append(('KNN', KNeighborsClassifier()))\n",
        "models.append(('CART', DecisionTreeClassifier(random_state=seed)))\n",
        "models.append(('RF', RandomForestClassifier(n_estimators=num_trees, random_state=seed)))\n",
        "models.append(('NB', GaussianNB()))\n",
        "models.append(('SVM', SVC(random_state=seed)))\n",
        "\n",
        "# variables to hold the results and names\n",
        "results = []\n",
        "names   = []\n",
        "\n",
        "# import the feature vector and trained labels\n",
        "h5f_data  = h5py.File(h5_train_data, 'r')\n",
        "h5f_label = h5py.File(h5_train_labels, 'r')\n",
        "\n",
        "global_features_string = h5f_data['dataset_1']\n",
        "global_labels_string   = h5f_label['dataset_1']\n",
        "\n",
        "global_features = np.array(global_features_string)\n",
        "global_labels   = np.array(global_labels_string)\n",
        "\n",
        "h5f_data.close()\n",
        "h5f_label.close()\n",
        "\n",
        "# verify the shape of the feature vector and labels\n",
        "print(\"[STATUS] features shape: {}\".format(global_features.shape))\n",
        "print(\"[STATUS] labels shape: {}\".format(global_labels.shape))\n",
        "\n",
        "print(\"[STATUS] training started...\")"
      ],
      "metadata": {
        "colab": {
          "base_uri": "https://localhost:8080/"
        },
        "id": "MwyT-kBBI561",
        "outputId": "07898724-00cc-40e2-ba58-725409a25b72"
      },
      "execution_count": 33,
      "outputs": [
        {
          "output_type": "stream",
          "name": "stdout",
          "text": [
            "[STATUS] features shape: (1600, 532)\n",
            "[STATUS] labels shape: (1600,)\n",
            "[STATUS] training started...\n"
          ]
        }
      ]
    },
    {
      "cell_type": "code",
      "source": [
        "# split the training and testing data\n",
        "(trainDataGlobal, testDataGlobal, trainLabelsGlobal, testLabelsGlobal) = train_test_split(np.array(global_features),\n",
        "                                                                                          np.array(global_labels),\n",
        "                                                                                          test_size=test_size,\n",
        "                                                                                          random_state=seed)\n",
        "\n",
        "print(\"[STATUS] splitted train and test data...\")\n",
        "print(\"Train data  : {}\".format(trainDataGlobal.shape))\n",
        "print(\"Test data   : {}\".format(testDataGlobal.shape)) "
      ],
      "metadata": {
        "colab": {
          "base_uri": "https://localhost:8080/"
        },
        "id": "RQ2goVN2I-ly",
        "outputId": "a113df92-f937-4477-b224-840a7d532adf"
      },
      "execution_count": 34,
      "outputs": [
        {
          "output_type": "stream",
          "name": "stdout",
          "text": [
            "[STATUS] splitted train and test data...\n",
            "Train data  : (1280, 532)\n",
            "Test data   : (320, 532)\n"
          ]
        }
      ]
    },
    {
      "cell_type": "code",
      "source": [
        "trainDataGlobal"
      ],
      "metadata": {
        "colab": {
          "base_uri": "https://localhost:8080/"
        },
        "id": "Wz0ysSsiJASZ",
        "outputId": "0703037c-cea1-4ede-e22a-4463fc1a18ea"
      },
      "execution_count": 35,
      "outputs": [
        {
          "output_type": "execute_result",
          "data": {
            "text/plain": [
              "array([[0.97973956, 0.        , 0.        , ..., 0.01058888, 0.12693628,\n",
              "        0.96573219],\n",
              "       [0.90470961, 0.03308547, 0.03047729, ..., 0.01058886, 0.12692807,\n",
              "        0.96573214],\n",
              "       [0.92166131, 0.01766604, 0.03559807, ..., 0.01058994, 0.12737134,\n",
              "        0.96573262],\n",
              "       ...,\n",
              "       [0.77039234, 0.        , 0.        , ..., 0.01058886, 0.12693296,\n",
              "        0.96573218],\n",
              "       [0.96965597, 0.        , 0.        , ..., 0.01058989, 0.1271198 ,\n",
              "        0.96574232],\n",
              "       [0.98389776, 0.19183335, 0.15462199, ..., 0.01058898, 0.12695993,\n",
              "        0.96573136]])"
            ]
          },
          "metadata": {},
          "execution_count": 35
        }
      ]
    },
    {
      "cell_type": "code",
      "source": [
        "# 10-fold cross validation\n",
        "for name, model in models:\n",
        "    kfold = KFold(n_splits=10, random_state=seed, shuffle=True)\n",
        "    cv_results = cross_val_score(model, trainDataGlobal, trainLabelsGlobal, cv=kfold, scoring=scoring)\n",
        "    results.append(cv_results)\n",
        "    names.append(name)\n",
        "    msg = \"%s: %f (%f)\" % (name, cv_results.mean(), cv_results.std())\n",
        "    print(msg)\n",
        "\n",
        "# boxplot algorithm comparison\n",
        "fig = pyplot.figure()\n",
        "fig.suptitle('Machine Learning algorithm comparison')\n",
        "ax = fig.add_subplot(111)\n",
        "pyplot.boxplot(results)\n",
        "ax.set_xticklabels(names)\n",
        "pyplot.show()"
      ],
      "metadata": {
        "colab": {
          "base_uri": "https://localhost:8080/",
          "height": 421
        },
        "id": "riwTPRRtI_Ts",
        "outputId": "8ef0aec1-678e-4ad9-8b0a-36380d91c780"
      },
      "execution_count": 37,
      "outputs": [
        {
          "output_type": "stream",
          "name": "stdout",
          "text": [
            "LR: 0.916406 (0.021833)\n",
            "LDA: 0.907813 (0.019702)\n",
            "KNN: 0.920312 (0.012500)\n",
            "CART: 0.906250 (0.027951)\n",
            "RF: 0.957031 (0.013189)\n",
            "NB: 0.857031 (0.010511)\n",
            "SVM: 0.916406 (0.020086)\n"
          ]
        },
        {
          "output_type": "display_data",
          "data": {
            "text/plain": [
              "<Figure size 432x288 with 1 Axes>"
            ],
            "image/png": "[encoded data removed]"
          },
          "metadata": {
            "needs_background": "light"
          }
        }
      ]
    },
    {
      "cell_type": "code",
      "source": [
        "clf  = RandomForestClassifier(n_estimators=num_trees, random_state=seed)\n",
        "clf.fit(trainDataGlobal, trainLabelsGlobal)\n"
      ],
      "metadata": {
        "colab": {
          "base_uri": "https://localhost:8080/"
        },
        "id": "M_n6EI4PJJfb",
        "outputId": "08d45db7-6fbf-4ce2-f88a-5a10bab4a102"
      },
      "execution_count": 45,
      "outputs": [
        {
          "output_type": "execute_result",
          "data": {
            "text/plain": [
              "RandomForestClassifier(random_state=9)"
            ]
          },
          "metadata": {},
          "execution_count": 45
        }
      ]
    },
    {
      "cell_type": "code",
      "source": [
        "y_predict=clf.predict(testDataGlobal)\n",
        "\n",
        "y_predict"
      ],
      "metadata": {
        "colab": {
          "base_uri": "https://localhost:8080/"
        },
        "id": "mxPCOOU1JP5w",
        "outputId": "5cedc126-27ed-4fea-e147-de9c15858b33"
      },
      "execution_count": 39,
      "outputs": [
        {
          "output_type": "execute_result",
          "data": {
            "text/plain": [
              "array([1, 1, 1, 0, 0, 1, 1, 1, 0, 0, 1, 1, 0, 0, 0, 1, 1, 1, 1, 1, 1, 1,\n",
              "       0, 1, 0, 0, 0, 0, 0, 0, 1, 1, 1, 0, 1, 0, 1, 1, 1, 0, 1, 0, 0, 0,\n",
              "       1, 0, 0, 0, 0, 0, 1, 0, 1, 0, 0, 1, 1, 1, 0, 1, 0, 0, 1, 0, 0, 0,\n",
              "       1, 1, 1, 0, 0, 0, 1, 0, 0, 1, 0, 1, 1, 0, 1, 1, 0, 1, 1, 1, 1, 0,\n",
              "       0, 1, 1, 1, 1, 1, 1, 1, 1, 1, 1, 1, 0, 0, 1, 1, 1, 0, 1, 1, 0, 1,\n",
              "       0, 1, 0, 0, 1, 1, 0, 1, 0, 1, 1, 0, 0, 0, 0, 0, 0, 0, 1, 0, 1, 1,\n",
              "       0, 1, 0, 1, 0, 0, 0, 1, 1, 0, 0, 0, 1, 1, 0, 0, 0, 1, 0, 1, 0, 1,\n",
              "       0, 0, 1, 1, 0, 0, 0, 1, 0, 1, 0, 1, 0, 1, 0, 0, 1, 0, 1, 0, 0, 0,\n",
              "       0, 0, 1, 1, 0, 0, 1, 0, 0, 1, 1, 1, 1, 0, 1, 1, 1, 0, 1, 0, 0, 0,\n",
              "       0, 1, 0, 1, 0, 0, 0, 1, 0, 0, 1, 1, 0, 0, 1, 1, 1, 1, 0, 1, 1, 1,\n",
              "       0, 0, 1, 0, 1, 1, 0, 0, 0, 0, 0, 1, 1, 0, 1, 1, 1, 1, 0, 1, 0, 1,\n",
              "       1, 0, 1, 1, 1, 0, 1, 1, 0, 0, 0, 0, 0, 0, 0, 1, 1, 1, 1, 1, 1, 1,\n",
              "       1, 0, 1, 0, 1, 0, 1, 0, 0, 0, 0, 1, 0, 0, 1, 0, 1, 1, 1, 1, 0, 1,\n",
              "       1, 1, 1, 1, 1, 1, 1, 0, 1, 1, 1, 1, 1, 0, 0, 0, 0, 0, 0, 0, 1, 0,\n",
              "       0, 1, 0, 0, 1, 1, 0, 0, 1, 1, 0, 0])"
            ]
          },
          "metadata": {},
          "execution_count": 39
        }
      ]
    },
    {
      "cell_type": "code",
      "source": [
        "import seaborn as sns\n",
        "cm = confusion_matrix(testLabelsGlobal,y_predict)\n",
        "sns.heatmap(cm ,annot=True)"
      ],
      "metadata": {
        "colab": {
          "base_uri": "https://localhost:8080/",
          "height": 287
        },
        "id": "6FGLlN7rJJX1",
        "outputId": "cf0f5dba-8996-419d-854f-e59ffc82c19f"
      },
      "execution_count": 42,
      "outputs": [
        {
          "output_type": "execute_result",
          "data": {
            "text/plain": [
              "<matplotlib.axes._subplots.AxesSubplot at 0x7f93221101d0>"
            ]
          },
          "metadata": {},
          "execution_count": 42
        },
        {
          "output_type": "display_data",
          "data": {
            "text/plain": [
              "<Figure size 432x288 with 2 Axes>"
            ],
            "image/png": "[encoded data removed]"
          },
          "metadata": {
            "needs_background": "light"
          }
        }
      ]
    },
    {
      "cell_type": "code",
      "source": [
        "print(classification_report(testLabelsGlobal,y_predict))"
      ],
      "metadata": {
        "colab": {
          "base_uri": "https://localhost:8080/"
        },
        "id": "fCpgOPZJJI7O",
        "outputId": "5734125c-f474-4dab-f5c4-1647bfa7fe6b"
      },
      "execution_count": 43,
      "outputs": [
        {
          "output_type": "stream",
          "name": "stdout",
          "text": [
            "              precision    recall  f1-score   support\n",
            "\n",
            "           0       0.99      0.97      0.98       158\n",
            "           1       0.98      0.99      0.98       162\n",
            "\n",
            "    accuracy                           0.98       320\n",
            "   macro avg       0.98      0.98      0.98       320\n",
            "weighted avg       0.98      0.98      0.98       320\n",
            "\n"
          ]
        }
      ]
    },
    {
      "cell_type": "code",
      "source": [
        "from sklearn.metrics import accuracy_score\n",
        "\n",
        "accuracy_score(testLabelsGlobal, y_predict)\n",
        "\n"
      ],
      "metadata": {
        "colab": {
          "base_uri": "https://localhost:8080/"
        },
        "id": "sS4CNYt-JaWh",
        "outputId": "a881b79b-7c21-4931-8dcb-0674abd10a60"
      },
      "execution_count": 44,
      "outputs": [
        {
          "output_type": "execute_result",
          "data": {
            "text/plain": [
              "0.98125"
            ]
          },
          "metadata": {},
          "execution_count": 44
        }
      ]
    }
  ]
}